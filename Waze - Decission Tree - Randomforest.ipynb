{
 "cells": [
  {
   "cell_type": "code",
   "execution_count": 1,
   "metadata": {},
   "outputs": [],
   "source": [
    "# Import pandas and numpy Libraries\n",
    "import pandas as pd\n",
    "import numpy as np\n",
    "\n",
    "# Import pandas and matplotlib modules for Data visualization\n",
    "from pandas.plotting import scatter_matrix\n",
    "from matplotlib import pyplot\n",
    "\n",
    "# Import scikit-learn module for module building\n",
    "from sklearn.tree import DecisionTreeClassifier\n",
    "\n",
    " \n",
    "\n",
    "# Import scikit-Learn module for train and test data\n",
    "from sklearn.model_selection import train_test_split\n",
    "\n",
    "# Import scikit-Learn module for K-fold cross validation\n",
    "from sklearn.model_selection import KFold\n",
    "from sklearn.model_selection import cross_val_score\n",
    "\n",
    "#Import modele for classification Report\n",
    "from sklearn.metrics import classification_report"
   ]
  },
  {
   "cell_type": "code",
   "execution_count": 2,
   "metadata": {},
   "outputs": [
    {
     "data": {
      "text/html": [
       "<div>\n",
       "<style scoped>\n",
       "    .dataframe tbody tr th:only-of-type {\n",
       "        vertical-align: middle;\n",
       "    }\n",
       "\n",
       "    .dataframe tbody tr th {\n",
       "        vertical-align: top;\n",
       "    }\n",
       "\n",
       "    .dataframe thead th {\n",
       "        text-align: right;\n",
       "    }\n",
       "</style>\n",
       "<table border=\"1\" class=\"dataframe\">\n",
       "  <thead>\n",
       "    <tr style=\"text-align: right;\">\n",
       "      <th></th>\n",
       "      <th>EVENT_ID</th>\n",
       "      <th>EVENT_TYPE</th>\n",
       "      <th>FACILITY_NAME</th>\n",
       "      <th>DIRECTION</th>\n",
       "      <th>CREATE_TIME</th>\n",
       "      <th>LAST_UPDATE</th>\n",
       "      <th>CLOSE_TIME</th>\n",
       "      <th>EVENT_DESCRIPTION</th>\n",
       "      <th>CITY</th>\n",
       "      <th>COUNTY</th>\n",
       "      <th>STATE</th>\n",
       "      <th>LAT</th>\n",
       "      <th>LON</th>\n",
       "      <th>Duration</th>\n",
       "      <th>Day</th>\n",
       "      <th>Create_day</th>\n",
       "      <th>Create_time</th>\n",
       "      <th>Dayofweek</th>\n",
       "    </tr>\n",
       "  </thead>\n",
       "  <tbody>\n",
       "    <tr>\n",
       "      <th>0</th>\n",
       "      <td>'2018113000155100005075'</td>\n",
       "      <td>stopped car on the shoulder</td>\n",
       "      <td>I-30 E</td>\n",
       "      <td>Eastbound</td>\n",
       "      <td>11/30/2018 12:15:51 AM</td>\n",
       "      <td>11/30/2018 1:44:37 AM</td>\n",
       "      <td>11/30/2018 1:44:37 AM</td>\n",
       "      <td>Waze Alert: stopped car on the shoulder on I-3...</td>\n",
       "      <td>Grand Prairie</td>\n",
       "      <td>Dallas</td>\n",
       "      <td>TX</td>\n",
       "      <td>32.762133</td>\n",
       "      <td>-96.948700</td>\n",
       "      <td>88.766667</td>\n",
       "      <td>Friday</td>\n",
       "      <td>2018-11-30</td>\n",
       "      <td>00:15:51</td>\n",
       "      <td>4</td>\n",
       "    </tr>\n",
       "    <tr>\n",
       "      <th>1</th>\n",
       "      <td>'2018113000194800005075'</td>\n",
       "      <td>stopped car on the shoulder</td>\n",
       "      <td>US-75 N</td>\n",
       "      <td>Northbound</td>\n",
       "      <td>11/30/2018 12:19:48 AM</td>\n",
       "      <td>11/30/2018 1:10:34 AM</td>\n",
       "      <td>11/30/2018 1:10:34 AM</td>\n",
       "      <td>Waze Alert: stopped car on the shoulder on US-...</td>\n",
       "      <td>Dallas</td>\n",
       "      <td>Dallas</td>\n",
       "      <td>TX</td>\n",
       "      <td>32.914223</td>\n",
       "      <td>-96.767735</td>\n",
       "      <td>50.766667</td>\n",
       "      <td>Friday</td>\n",
       "      <td>2018-11-30</td>\n",
       "      <td>00:19:48</td>\n",
       "      <td>4</td>\n",
       "    </tr>\n",
       "    <tr>\n",
       "      <th>2</th>\n",
       "      <td>'2018113000215800005075'</td>\n",
       "      <td>stopped car on the shoulder</td>\n",
       "      <td>I-30 E</td>\n",
       "      <td>Eastbound</td>\n",
       "      <td>11/30/2018 12:21:58 AM</td>\n",
       "      <td>11/30/2018 1:40:35 AM</td>\n",
       "      <td>11/30/2018 1:40:35 AM</td>\n",
       "      <td>Waze Alert: stopped car on the shoulder on I-3...</td>\n",
       "      <td>Grand Prairie</td>\n",
       "      <td>Dallas</td>\n",
       "      <td>TX</td>\n",
       "      <td>32.759152</td>\n",
       "      <td>-97.004621</td>\n",
       "      <td>78.616667</td>\n",
       "      <td>Friday</td>\n",
       "      <td>2018-11-30</td>\n",
       "      <td>00:21:58</td>\n",
       "      <td>4</td>\n",
       "    </tr>\n",
       "    <tr>\n",
       "      <th>3</th>\n",
       "      <td>'2018113000224700005075'</td>\n",
       "      <td>stopped car on the shoulder</td>\n",
       "      <td>I-635 W</td>\n",
       "      <td>Westbound</td>\n",
       "      <td>11/30/2018 12:22:47 AM</td>\n",
       "      <td>11/30/2018 1:02:37 AM</td>\n",
       "      <td>11/30/2018 1:02:37 AM</td>\n",
       "      <td>Waze Alert: stopped car on the shoulder on I-6...</td>\n",
       "      <td>Garland</td>\n",
       "      <td>Dallas</td>\n",
       "      <td>TX</td>\n",
       "      <td>32.869490</td>\n",
       "      <td>-96.670000</td>\n",
       "      <td>39.833333</td>\n",
       "      <td>Friday</td>\n",
       "      <td>2018-11-30</td>\n",
       "      <td>00:22:47</td>\n",
       "      <td>4</td>\n",
       "    </tr>\n",
       "    <tr>\n",
       "      <th>4</th>\n",
       "      <td>'2018113000273400005075'</td>\n",
       "      <td>stopped car</td>\n",
       "      <td>President George Bush Tpk E</td>\n",
       "      <td>Southbound</td>\n",
       "      <td>11/30/2018 12:27:34 AM</td>\n",
       "      <td>11/30/2018 1:06:37 AM</td>\n",
       "      <td>11/30/2018 1:06:37 AM</td>\n",
       "      <td>Waze Alert: stopped car on President George Bu...</td>\n",
       "      <td>Richardson</td>\n",
       "      <td>Dallas</td>\n",
       "      <td>TX</td>\n",
       "      <td>32.982323</td>\n",
       "      <td>-96.665009</td>\n",
       "      <td>39.050000</td>\n",
       "      <td>Friday</td>\n",
       "      <td>2018-11-30</td>\n",
       "      <td>00:27:34</td>\n",
       "      <td>4</td>\n",
       "    </tr>\n",
       "  </tbody>\n",
       "</table>\n",
       "</div>"
      ],
      "text/plain": [
       "                   EVENT_ID                   EVENT_TYPE  \\\n",
       "0  '2018113000155100005075'  stopped car on the shoulder   \n",
       "1  '2018113000194800005075'  stopped car on the shoulder   \n",
       "2  '2018113000215800005075'  stopped car on the shoulder   \n",
       "3  '2018113000224700005075'  stopped car on the shoulder   \n",
       "4  '2018113000273400005075'                  stopped car   \n",
       "\n",
       "                 FACILITY_NAME   DIRECTION             CREATE_TIME  \\\n",
       "0                       I-30 E   Eastbound  11/30/2018 12:15:51 AM   \n",
       "1                      US-75 N  Northbound  11/30/2018 12:19:48 AM   \n",
       "2                       I-30 E   Eastbound  11/30/2018 12:21:58 AM   \n",
       "3                      I-635 W   Westbound  11/30/2018 12:22:47 AM   \n",
       "4  President George Bush Tpk E  Southbound  11/30/2018 12:27:34 AM   \n",
       "\n",
       "             LAST_UPDATE             CLOSE_TIME  \\\n",
       "0  11/30/2018 1:44:37 AM  11/30/2018 1:44:37 AM   \n",
       "1  11/30/2018 1:10:34 AM  11/30/2018 1:10:34 AM   \n",
       "2  11/30/2018 1:40:35 AM  11/30/2018 1:40:35 AM   \n",
       "3  11/30/2018 1:02:37 AM  11/30/2018 1:02:37 AM   \n",
       "4  11/30/2018 1:06:37 AM  11/30/2018 1:06:37 AM   \n",
       "\n",
       "                                   EVENT_DESCRIPTION           CITY  COUNTY  \\\n",
       "0  Waze Alert: stopped car on the shoulder on I-3...  Grand Prairie  Dallas   \n",
       "1  Waze Alert: stopped car on the shoulder on US-...         Dallas  Dallas   \n",
       "2  Waze Alert: stopped car on the shoulder on I-3...  Grand Prairie  Dallas   \n",
       "3  Waze Alert: stopped car on the shoulder on I-6...        Garland  Dallas   \n",
       "4  Waze Alert: stopped car on President George Bu...     Richardson  Dallas   \n",
       "\n",
       "  STATE        LAT        LON   Duration     Day  Create_day Create_time  \\\n",
       "0    TX  32.762133 -96.948700  88.766667  Friday  2018-11-30    00:15:51   \n",
       "1    TX  32.914223 -96.767735  50.766667  Friday  2018-11-30    00:19:48   \n",
       "2    TX  32.759152 -97.004621  78.616667  Friday  2018-11-30    00:21:58   \n",
       "3    TX  32.869490 -96.670000  39.833333  Friday  2018-11-30    00:22:47   \n",
       "4    TX  32.982323 -96.665009  39.050000  Friday  2018-11-30    00:27:34   \n",
       "\n",
       "   Dayofweek  \n",
       "0          4  \n",
       "1          4  \n",
       "2          4  \n",
       "3          4  \n",
       "4          4  "
      ]
     },
     "execution_count": 2,
     "metadata": {},
     "output_type": "execute_result"
    }
   ],
   "source": [
    "filename1 = 'C:/Users/Gayathri/Desktop/MS UNT/Capestone/waze_final_dallas_county.csv'\n",
    "df = pd.read_csv(filename1)\n",
    "df.head(5)"
   ]
  },
  {
   "cell_type": "code",
   "execution_count": 3,
   "metadata": {},
   "outputs": [],
   "source": [
    "df.loc[(df.EVENT_TYPE == 'accident') | (df.EVENT_TYPE == 'minor accident'), 'Predict'] = 1\n",
    "df.loc[(df.EVENT_TYPE != 'accident') & (df.EVENT_TYPE != 'minor accident'), 'Predict'] = 0"
   ]
  },
  {
   "cell_type": "code",
   "execution_count": 4,
   "metadata": {},
   "outputs": [],
   "source": [
    "df['hours'] = pd.to_datetime(df['Create_time']).dt.round('H').dt.hour"
   ]
  },
  {
   "cell_type": "code",
   "execution_count": 5,
   "metadata": {},
   "outputs": [],
   "source": [
    "\n",
    "df.loc[((df.hours >= 6) & (df.hours <=10)) | ((df.hours >= 16) & (df.hours <=19)), 'Peak_hour'] = 1"
   ]
  },
  {
   "cell_type": "code",
   "execution_count": 6,
   "metadata": {},
   "outputs": [],
   "source": [
    "df.loc[((df.hours < 6) | (df.hours >10)) | ((df.hours < 16) & (df.hours >19)), 'Peak_hour'] = 0"
   ]
  },
  {
   "cell_type": "code",
   "execution_count": 7,
   "metadata": {},
   "outputs": [
    {
     "data": {
      "text/html": [
       "<div>\n",
       "<style scoped>\n",
       "    .dataframe tbody tr th:only-of-type {\n",
       "        vertical-align: middle;\n",
       "    }\n",
       "\n",
       "    .dataframe tbody tr th {\n",
       "        vertical-align: top;\n",
       "    }\n",
       "\n",
       "    .dataframe thead th {\n",
       "        text-align: right;\n",
       "    }\n",
       "</style>\n",
       "<table border=\"1\" class=\"dataframe\">\n",
       "  <thead>\n",
       "    <tr style=\"text-align: right;\">\n",
       "      <th></th>\n",
       "      <th>EVENT_ID</th>\n",
       "      <th>EVENT_TYPE</th>\n",
       "      <th>FACILITY_NAME</th>\n",
       "      <th>DIRECTION</th>\n",
       "      <th>CREATE_TIME</th>\n",
       "      <th>LAST_UPDATE</th>\n",
       "      <th>CLOSE_TIME</th>\n",
       "      <th>EVENT_DESCRIPTION</th>\n",
       "      <th>CITY</th>\n",
       "      <th>COUNTY</th>\n",
       "      <th>...</th>\n",
       "      <th>LAT</th>\n",
       "      <th>LON</th>\n",
       "      <th>Duration</th>\n",
       "      <th>Day</th>\n",
       "      <th>Create_day</th>\n",
       "      <th>Create_time</th>\n",
       "      <th>Dayofweek</th>\n",
       "      <th>Predict</th>\n",
       "      <th>hours</th>\n",
       "      <th>Peak_hour</th>\n",
       "    </tr>\n",
       "  </thead>\n",
       "  <tbody>\n",
       "    <tr>\n",
       "      <th>0</th>\n",
       "      <td>'2018113000155100005075'</td>\n",
       "      <td>stopped car on the shoulder</td>\n",
       "      <td>I-30 E</td>\n",
       "      <td>Eastbound</td>\n",
       "      <td>11/30/2018 12:15:51 AM</td>\n",
       "      <td>11/30/2018 1:44:37 AM</td>\n",
       "      <td>11/30/2018 1:44:37 AM</td>\n",
       "      <td>Waze Alert: stopped car on the shoulder on I-3...</td>\n",
       "      <td>Grand Prairie</td>\n",
       "      <td>Dallas</td>\n",
       "      <td>...</td>\n",
       "      <td>32.762133</td>\n",
       "      <td>-96.948700</td>\n",
       "      <td>88.766667</td>\n",
       "      <td>Friday</td>\n",
       "      <td>2018-11-30</td>\n",
       "      <td>00:15:51</td>\n",
       "      <td>4</td>\n",
       "      <td>0.0</td>\n",
       "      <td>0</td>\n",
       "      <td>0.0</td>\n",
       "    </tr>\n",
       "    <tr>\n",
       "      <th>1</th>\n",
       "      <td>'2018113000194800005075'</td>\n",
       "      <td>stopped car on the shoulder</td>\n",
       "      <td>US-75 N</td>\n",
       "      <td>Northbound</td>\n",
       "      <td>11/30/2018 12:19:48 AM</td>\n",
       "      <td>11/30/2018 1:10:34 AM</td>\n",
       "      <td>11/30/2018 1:10:34 AM</td>\n",
       "      <td>Waze Alert: stopped car on the shoulder on US-...</td>\n",
       "      <td>Dallas</td>\n",
       "      <td>Dallas</td>\n",
       "      <td>...</td>\n",
       "      <td>32.914223</td>\n",
       "      <td>-96.767735</td>\n",
       "      <td>50.766667</td>\n",
       "      <td>Friday</td>\n",
       "      <td>2018-11-30</td>\n",
       "      <td>00:19:48</td>\n",
       "      <td>4</td>\n",
       "      <td>0.0</td>\n",
       "      <td>0</td>\n",
       "      <td>0.0</td>\n",
       "    </tr>\n",
       "    <tr>\n",
       "      <th>2</th>\n",
       "      <td>'2018113000215800005075'</td>\n",
       "      <td>stopped car on the shoulder</td>\n",
       "      <td>I-30 E</td>\n",
       "      <td>Eastbound</td>\n",
       "      <td>11/30/2018 12:21:58 AM</td>\n",
       "      <td>11/30/2018 1:40:35 AM</td>\n",
       "      <td>11/30/2018 1:40:35 AM</td>\n",
       "      <td>Waze Alert: stopped car on the shoulder on I-3...</td>\n",
       "      <td>Grand Prairie</td>\n",
       "      <td>Dallas</td>\n",
       "      <td>...</td>\n",
       "      <td>32.759152</td>\n",
       "      <td>-97.004621</td>\n",
       "      <td>78.616667</td>\n",
       "      <td>Friday</td>\n",
       "      <td>2018-11-30</td>\n",
       "      <td>00:21:58</td>\n",
       "      <td>4</td>\n",
       "      <td>0.0</td>\n",
       "      <td>0</td>\n",
       "      <td>0.0</td>\n",
       "    </tr>\n",
       "    <tr>\n",
       "      <th>3</th>\n",
       "      <td>'2018113000224700005075'</td>\n",
       "      <td>stopped car on the shoulder</td>\n",
       "      <td>I-635 W</td>\n",
       "      <td>Westbound</td>\n",
       "      <td>11/30/2018 12:22:47 AM</td>\n",
       "      <td>11/30/2018 1:02:37 AM</td>\n",
       "      <td>11/30/2018 1:02:37 AM</td>\n",
       "      <td>Waze Alert: stopped car on the shoulder on I-6...</td>\n",
       "      <td>Garland</td>\n",
       "      <td>Dallas</td>\n",
       "      <td>...</td>\n",
       "      <td>32.869490</td>\n",
       "      <td>-96.670000</td>\n",
       "      <td>39.833333</td>\n",
       "      <td>Friday</td>\n",
       "      <td>2018-11-30</td>\n",
       "      <td>00:22:47</td>\n",
       "      <td>4</td>\n",
       "      <td>0.0</td>\n",
       "      <td>0</td>\n",
       "      <td>0.0</td>\n",
       "    </tr>\n",
       "  </tbody>\n",
       "</table>\n",
       "<p>4 rows × 21 columns</p>\n",
       "</div>"
      ],
      "text/plain": [
       "                   EVENT_ID                   EVENT_TYPE FACILITY_NAME  \\\n",
       "0  '2018113000155100005075'  stopped car on the shoulder        I-30 E   \n",
       "1  '2018113000194800005075'  stopped car on the shoulder       US-75 N   \n",
       "2  '2018113000215800005075'  stopped car on the shoulder        I-30 E   \n",
       "3  '2018113000224700005075'  stopped car on the shoulder       I-635 W   \n",
       "\n",
       "    DIRECTION             CREATE_TIME            LAST_UPDATE  \\\n",
       "0   Eastbound  11/30/2018 12:15:51 AM  11/30/2018 1:44:37 AM   \n",
       "1  Northbound  11/30/2018 12:19:48 AM  11/30/2018 1:10:34 AM   \n",
       "2   Eastbound  11/30/2018 12:21:58 AM  11/30/2018 1:40:35 AM   \n",
       "3   Westbound  11/30/2018 12:22:47 AM  11/30/2018 1:02:37 AM   \n",
       "\n",
       "              CLOSE_TIME                                  EVENT_DESCRIPTION  \\\n",
       "0  11/30/2018 1:44:37 AM  Waze Alert: stopped car on the shoulder on I-3...   \n",
       "1  11/30/2018 1:10:34 AM  Waze Alert: stopped car on the shoulder on US-...   \n",
       "2  11/30/2018 1:40:35 AM  Waze Alert: stopped car on the shoulder on I-3...   \n",
       "3  11/30/2018 1:02:37 AM  Waze Alert: stopped car on the shoulder on I-6...   \n",
       "\n",
       "            CITY  COUNTY  ...        LAT        LON   Duration     Day  \\\n",
       "0  Grand Prairie  Dallas  ...  32.762133 -96.948700  88.766667  Friday   \n",
       "1         Dallas  Dallas  ...  32.914223 -96.767735  50.766667  Friday   \n",
       "2  Grand Prairie  Dallas  ...  32.759152 -97.004621  78.616667  Friday   \n",
       "3        Garland  Dallas  ...  32.869490 -96.670000  39.833333  Friday   \n",
       "\n",
       "   Create_day Create_time Dayofweek  Predict  hours  Peak_hour  \n",
       "0  2018-11-30    00:15:51         4      0.0      0        0.0  \n",
       "1  2018-11-30    00:19:48         4      0.0      0        0.0  \n",
       "2  2018-11-30    00:21:58         4      0.0      0        0.0  \n",
       "3  2018-11-30    00:22:47         4      0.0      0        0.0  \n",
       "\n",
       "[4 rows x 21 columns]"
      ]
     },
     "execution_count": 7,
     "metadata": {},
     "output_type": "execute_result"
    }
   ],
   "source": [
    "df.head(4)"
   ]
  },
  {
   "cell_type": "code",
   "execution_count": 11,
   "metadata": {},
   "outputs": [
    {
     "data": {
      "text/plain": [
       "0.0    1134027\n",
       "1.0      16097\n",
       "Name: Predict, dtype: int64"
      ]
     },
     "execution_count": 11,
     "metadata": {},
     "output_type": "execute_result"
    }
   ],
   "source": [
    "df['Predict'].value_counts()"
   ]
  },
  {
   "cell_type": "code",
   "execution_count": 250,
   "metadata": {},
   "outputs": [
    {
     "data": {
      "text/plain": [
       "traffic jam                        634000\n",
       "heavy traffic                      146313\n",
       "stopped car on the shoulder        136828\n",
       "stopped traffic                     76752\n",
       "traffic heavier than normal         42278\n",
       "slowdown                            19754\n",
       "stopped car                         16734\n",
       "road construction                   14859\n",
       "object on roadway                   13492\n",
       "accident                             8118\n",
       "minor accident                       7979\n",
       "pothole                              7760\n",
       "major event                          6673\n",
       "small traffic jam                    5339\n",
       "other                                4108\n",
       "road closed                          1582\n",
       "medium traffic jam                   1510\n",
       "animal struck                         778\n",
       "flooding                              764\n",
       "malfunctioning traffic light          702\n",
       "animal on the shoulder                672\n",
       "hazard on the shoulder                625\n",
       "missing sign on the shoulder          579\n",
       "large traffic jam                     550\n",
       "road closed due to construction       491\n",
       "hazard on road                        368\n",
       "fog                                   286\n",
       "ice on roadway                        100\n",
       "weather hazard                         68\n",
       "hail                                   23\n",
       "road closed due to hazard              22\n",
       "huge traffic jam                       17\n",
       "Name: EVENT_TYPE, dtype: int64"
      ]
     },
     "execution_count": 250,
     "metadata": {},
     "output_type": "execute_result"
    }
   ],
   "source": [
    "df['EVENT_TYPE'].value_counts()"
   ]
  },
  {
   "cell_type": "code",
   "execution_count": null,
   "metadata": {},
   "outputs": [],
   "source": []
  },
  {
   "cell_type": "code",
   "execution_count": 13,
   "metadata": {
    "scrolled": true
   },
   "outputs": [
    {
     "data": {
      "text/plain": [
       "traffic jam                        634000\n",
       "heavy traffic                      146313\n",
       "stopped car on the shoulder        136828\n",
       "stopped traffic                     76752\n",
       "traffic heavier than normal         42278\n",
       "slowdown                            19754\n",
       "stopped car                         16734\n",
       "road construction                   14859\n",
       "object on roadway                   13492\n",
       "accident                             8118\n",
       "minor accident                       7979\n",
       "pothole                              7760\n",
       "major event                          6673\n",
       "small traffic jam                    5339\n",
       "other                                4108\n",
       "road closed                          1582\n",
       "medium traffic jam                   1510\n",
       "animal struck                         778\n",
       "flooding                              764\n",
       "malfunctioning traffic light          702\n",
       "animal on the shoulder                672\n",
       "hazard on the shoulder                625\n",
       "missing sign on the shoulder          579\n",
       "large traffic jam                     550\n",
       "road closed due to construction       491\n",
       "hazard on road                        368\n",
       "fog                                   286\n",
       "ice on roadway                        100\n",
       "weather hazard                         68\n",
       "hail                                   23\n",
       "road closed due to hazard              22\n",
       "huge traffic jam                       17\n",
       "Name: EVENT_TYPE, dtype: int64"
      ]
     },
     "execution_count": 13,
     "metadata": {},
     "output_type": "execute_result"
    }
   ],
   "source": [
    "df['EVENT_TYPE'].value_counts()"
   ]
  },
  {
   "cell_type": "code",
   "execution_count": 655,
   "metadata": {},
   "outputs": [],
   "source": [
    "df.loc[(df.EVENT_TYPE == 'accident') | (df.EVENT_TYPE == 'minor accident'), 'Event_type'] = 'accident'\n",
    "\n",
    "df.loc[(df.EVENT_TYPE == 'traffic jam'), 'Event_type'] = 'traffic jam'\n",
    "\n",
    "df.loc[(df.EVENT_TYPE == 'heavy traffic'), 'Event_type'] = 'heavy traffic'\n",
    "\n",
    "df.loc[(df.EVENT_TYPE == 'stopped traffic'), 'Event_type'] = 'stopped traffic'\n",
    "\n",
    "df.loc[(df.EVENT_TYPE == 'traffic heavier than normal'), 'Event_type'] = 'traffic heavier than normal'\n",
    "\n",
    "df.loc[(df.EVENT_TYPE == 'small traffic jam'), 'Event_type'] = 'small traffic jam'\n",
    "\n",
    "df.loc[(df.EVENT_TYPE == 'road construction'), 'Event_type'] = 'road construction'\n",
    "\n",
    "df.loc[(df.EVENT_TYPE == 'weather hazard'), 'Event_type'] = 'weather'\n",
    "df.loc[(df.EVENT_TYPE == 'hail'),'Event_type']= 'weather'\n",
    "df.loc[(df.EVENT_TYPE == 'fog') ,'Event_type']='weather'\n",
    "df.loc[(df.EVENT_TYPE == 'ice on roadway'),'Event_type']='weather'\n",
    "df.loc[(df.EVENT_TYPE == 'flooding'),'Event_type']='weather'\n",
    "\n",
    "\n",
    "df.loc[(df.EVENT_TYPE == 'stopped car on the shoulder') | (df.EVENT_TYPE == 'slowdown') | (df.EVENT_TYPE == 'stopped car')|\n",
    "       (df.EVENT_TYPE == 'object on roadway')|\n",
    "       (df.EVENT_TYPE == 'pothole') | (df.EVENT_TYPE == 'major event')|\n",
    "       (df.EVENT_TYPE == 'other') | (df.EVENT_TYPE == 'road closed')|\n",
    "       (df.EVENT_TYPE == 'medium traffic jam') | (df.EVENT_TYPE == 'animal struck')|\n",
    "        (df.EVENT_TYPE == 'malfunctioning traffic light')|\n",
    "       (df.EVENT_TYPE == 'missing sign on the shoulder') | (df.EVENT_TYPE == 'large traffic jam')|\n",
    "       (df.EVENT_TYPE == 'road closed due to construction') | (df.EVENT_TYPE == 'hazard on road')|\n",
    "       (df.EVENT_TYPE == 'weather hazard') | (df.EVENT_TYPE == 'hail')|\n",
    "       (df.EVENT_TYPE == 'road closed due to hazard') | (df.EVENT_TYPE == 'huge traffic jam')|\n",
    "       (df.EVENT_TYPE == 'animal on the shoulder') | (df.EVENT_TYPE == 'hazard on the shoulder'),'Event_type'] = 'Other'\n",
    "\n",
    "\n"
   ]
  },
  {
   "cell_type": "code",
   "execution_count": 657,
   "metadata": {},
   "outputs": [
    {
     "data": {
      "text/plain": [
       "traffic jam                    634000\n",
       "Other                          213336\n",
       "heavy traffic                  146313\n",
       "stopped traffic                 76752\n",
       "traffic heavier than normal     42278\n",
       "accident                        16097\n",
       "road construction               14859\n",
       "small traffic jam                5339\n",
       "weather                          1150\n",
       "Name: Event_type, dtype: int64"
      ]
     },
     "execution_count": 657,
     "metadata": {},
     "output_type": "execute_result"
    }
   ],
   "source": [
    "df['Event_type'].value_counts()"
   ]
  },
  {
   "cell_type": "code",
   "execution_count": 319,
   "metadata": {},
   "outputs": [
    {
     "data": {
      "text/html": [
       "<div>\n",
       "<style scoped>\n",
       "    .dataframe tbody tr th:only-of-type {\n",
       "        vertical-align: middle;\n",
       "    }\n",
       "\n",
       "    .dataframe tbody tr th {\n",
       "        vertical-align: top;\n",
       "    }\n",
       "\n",
       "    .dataframe thead th {\n",
       "        text-align: right;\n",
       "    }\n",
       "</style>\n",
       "<table border=\"1\" class=\"dataframe\">\n",
       "  <thead>\n",
       "    <tr style=\"text-align: right;\">\n",
       "      <th></th>\n",
       "      <th>EVENT_ID</th>\n",
       "      <th>EVENT_TYPE</th>\n",
       "      <th>FACILITY_NAME</th>\n",
       "      <th>DIRECTION</th>\n",
       "      <th>CREATE_TIME</th>\n",
       "      <th>LAST_UPDATE</th>\n",
       "      <th>CLOSE_TIME</th>\n",
       "      <th>EVENT_DESCRIPTION</th>\n",
       "      <th>CITY</th>\n",
       "      <th>COUNTY</th>\n",
       "      <th>...</th>\n",
       "      <th>LON</th>\n",
       "      <th>Duration</th>\n",
       "      <th>Day</th>\n",
       "      <th>Create_day</th>\n",
       "      <th>Create_time</th>\n",
       "      <th>Dayofweek</th>\n",
       "      <th>Predict</th>\n",
       "      <th>hours</th>\n",
       "      <th>Peak_hour</th>\n",
       "      <th>Event_type</th>\n",
       "    </tr>\n",
       "  </thead>\n",
       "  <tbody>\n",
       "    <tr>\n",
       "      <th>0</th>\n",
       "      <td>'2018113000155100005075'</td>\n",
       "      <td>stopped car on the shoulder</td>\n",
       "      <td>I-30 E</td>\n",
       "      <td>Eastbound</td>\n",
       "      <td>11/30/2018 12:15:51 AM</td>\n",
       "      <td>11/30/2018 1:44:37 AM</td>\n",
       "      <td>11/30/2018 1:44:37 AM</td>\n",
       "      <td>Waze Alert: stopped car on the shoulder on I-3...</td>\n",
       "      <td>Grand Prairie</td>\n",
       "      <td>Dallas</td>\n",
       "      <td>...</td>\n",
       "      <td>-96.948700</td>\n",
       "      <td>88.766667</td>\n",
       "      <td>Friday</td>\n",
       "      <td>2018-11-30</td>\n",
       "      <td>00:15:51</td>\n",
       "      <td>4</td>\n",
       "      <td>0.0</td>\n",
       "      <td>0</td>\n",
       "      <td>0.0</td>\n",
       "      <td>Other</td>\n",
       "    </tr>\n",
       "    <tr>\n",
       "      <th>1</th>\n",
       "      <td>'2018113000194800005075'</td>\n",
       "      <td>stopped car on the shoulder</td>\n",
       "      <td>US-75 N</td>\n",
       "      <td>Northbound</td>\n",
       "      <td>11/30/2018 12:19:48 AM</td>\n",
       "      <td>11/30/2018 1:10:34 AM</td>\n",
       "      <td>11/30/2018 1:10:34 AM</td>\n",
       "      <td>Waze Alert: stopped car on the shoulder on US-...</td>\n",
       "      <td>Dallas</td>\n",
       "      <td>Dallas</td>\n",
       "      <td>...</td>\n",
       "      <td>-96.767735</td>\n",
       "      <td>50.766667</td>\n",
       "      <td>Friday</td>\n",
       "      <td>2018-11-30</td>\n",
       "      <td>00:19:48</td>\n",
       "      <td>4</td>\n",
       "      <td>0.0</td>\n",
       "      <td>0</td>\n",
       "      <td>0.0</td>\n",
       "      <td>Other</td>\n",
       "    </tr>\n",
       "    <tr>\n",
       "      <th>2</th>\n",
       "      <td>'2018113000215800005075'</td>\n",
       "      <td>stopped car on the shoulder</td>\n",
       "      <td>I-30 E</td>\n",
       "      <td>Eastbound</td>\n",
       "      <td>11/30/2018 12:21:58 AM</td>\n",
       "      <td>11/30/2018 1:40:35 AM</td>\n",
       "      <td>11/30/2018 1:40:35 AM</td>\n",
       "      <td>Waze Alert: stopped car on the shoulder on I-3...</td>\n",
       "      <td>Grand Prairie</td>\n",
       "      <td>Dallas</td>\n",
       "      <td>...</td>\n",
       "      <td>-97.004621</td>\n",
       "      <td>78.616667</td>\n",
       "      <td>Friday</td>\n",
       "      <td>2018-11-30</td>\n",
       "      <td>00:21:58</td>\n",
       "      <td>4</td>\n",
       "      <td>0.0</td>\n",
       "      <td>0</td>\n",
       "      <td>0.0</td>\n",
       "      <td>Other</td>\n",
       "    </tr>\n",
       "    <tr>\n",
       "      <th>3</th>\n",
       "      <td>'2018113000224700005075'</td>\n",
       "      <td>stopped car on the shoulder</td>\n",
       "      <td>I-635 W</td>\n",
       "      <td>Westbound</td>\n",
       "      <td>11/30/2018 12:22:47 AM</td>\n",
       "      <td>11/30/2018 1:02:37 AM</td>\n",
       "      <td>11/30/2018 1:02:37 AM</td>\n",
       "      <td>Waze Alert: stopped car on the shoulder on I-6...</td>\n",
       "      <td>Garland</td>\n",
       "      <td>Dallas</td>\n",
       "      <td>...</td>\n",
       "      <td>-96.670000</td>\n",
       "      <td>39.833333</td>\n",
       "      <td>Friday</td>\n",
       "      <td>2018-11-30</td>\n",
       "      <td>00:22:47</td>\n",
       "      <td>4</td>\n",
       "      <td>0.0</td>\n",
       "      <td>0</td>\n",
       "      <td>0.0</td>\n",
       "      <td>Other</td>\n",
       "    </tr>\n",
       "  </tbody>\n",
       "</table>\n",
       "<p>4 rows × 22 columns</p>\n",
       "</div>"
      ],
      "text/plain": [
       "                   EVENT_ID                   EVENT_TYPE FACILITY_NAME  \\\n",
       "0  '2018113000155100005075'  stopped car on the shoulder        I-30 E   \n",
       "1  '2018113000194800005075'  stopped car on the shoulder       US-75 N   \n",
       "2  '2018113000215800005075'  stopped car on the shoulder        I-30 E   \n",
       "3  '2018113000224700005075'  stopped car on the shoulder       I-635 W   \n",
       "\n",
       "    DIRECTION             CREATE_TIME            LAST_UPDATE  \\\n",
       "0   Eastbound  11/30/2018 12:15:51 AM  11/30/2018 1:44:37 AM   \n",
       "1  Northbound  11/30/2018 12:19:48 AM  11/30/2018 1:10:34 AM   \n",
       "2   Eastbound  11/30/2018 12:21:58 AM  11/30/2018 1:40:35 AM   \n",
       "3   Westbound  11/30/2018 12:22:47 AM  11/30/2018 1:02:37 AM   \n",
       "\n",
       "              CLOSE_TIME                                  EVENT_DESCRIPTION  \\\n",
       "0  11/30/2018 1:44:37 AM  Waze Alert: stopped car on the shoulder on I-3...   \n",
       "1  11/30/2018 1:10:34 AM  Waze Alert: stopped car on the shoulder on US-...   \n",
       "2  11/30/2018 1:40:35 AM  Waze Alert: stopped car on the shoulder on I-3...   \n",
       "3  11/30/2018 1:02:37 AM  Waze Alert: stopped car on the shoulder on I-6...   \n",
       "\n",
       "            CITY  COUNTY  ...        LON   Duration     Day  Create_day  \\\n",
       "0  Grand Prairie  Dallas  ... -96.948700  88.766667  Friday  2018-11-30   \n",
       "1         Dallas  Dallas  ... -96.767735  50.766667  Friday  2018-11-30   \n",
       "2  Grand Prairie  Dallas  ... -97.004621  78.616667  Friday  2018-11-30   \n",
       "3        Garland  Dallas  ... -96.670000  39.833333  Friday  2018-11-30   \n",
       "\n",
       "  Create_time Dayofweek Predict  hours  Peak_hour  Event_type  \n",
       "0    00:15:51         4     0.0      0        0.0       Other  \n",
       "1    00:19:48         4     0.0      0        0.0       Other  \n",
       "2    00:21:58         4     0.0      0        0.0       Other  \n",
       "3    00:22:47         4     0.0      0        0.0       Other  \n",
       "\n",
       "[4 rows x 22 columns]"
      ]
     },
     "execution_count": 319,
     "metadata": {},
     "output_type": "execute_result"
    }
   ],
   "source": [
    "df.head(4)"
   ]
  },
  {
   "cell_type": "code",
   "execution_count": 658,
   "metadata": {},
   "outputs": [
    {
     "data": {
      "text/plain": [
       "traffic jam                    634000\n",
       "Other                          213336\n",
       "heavy traffic                  146313\n",
       "stopped traffic                 76752\n",
       "traffic heavier than normal     42278\n",
       "accident                        16097\n",
       "road construction               14859\n",
       "small traffic jam                5339\n",
       "weather                          1150\n",
       "Name: Event_type, dtype: int64"
      ]
     },
     "execution_count": 658,
     "metadata": {},
     "output_type": "execute_result"
    }
   ],
   "source": [
    "df['Event_type'].value_counts()"
   ]
  },
  {
   "cell_type": "code",
   "execution_count": 659,
   "metadata": {},
   "outputs": [],
   "source": [
    "df_onehot = df.copy()\n",
    "df_onehot = pd.get_dummies(df_onehot, columns=['Event_type'], prefix = ['Event'])"
   ]
  },
  {
   "cell_type": "code",
   "execution_count": 660,
   "metadata": {},
   "outputs": [
    {
     "name": "stdout",
     "output_type": "stream",
     "text": [
      "<class 'pandas.core.frame.DataFrame'>\n",
      "RangeIndex: 1150124 entries, 0 to 1150123\n",
      "Data columns (total 30 columns):\n",
      "EVENT_ID                             1150124 non-null object\n",
      "EVENT_TYPE                           1150124 non-null object\n",
      "FACILITY_NAME                        1150124 non-null object\n",
      "DIRECTION                            508708 non-null object\n",
      "CREATE_TIME                          1150124 non-null object\n",
      "LAST_UPDATE                          1150124 non-null object\n",
      "CLOSE_TIME                           1150122 non-null object\n",
      "EVENT_DESCRIPTION                    1150124 non-null object\n",
      "CITY                                 1150124 non-null object\n",
      "COUNTY                               1150124 non-null object\n",
      "STATE                                1150124 non-null object\n",
      "LAT                                  1150124 non-null float64\n",
      "LON                                  1150124 non-null float64\n",
      "Duration                             1150124 non-null float64\n",
      "Day                                  1150124 non-null object\n",
      "Create_day                           1150124 non-null object\n",
      "Create_time                          1150124 non-null object\n",
      "Dayofweek                            1150124 non-null int64\n",
      "Predict                              1150124 non-null float64\n",
      "hours                                1150124 non-null int64\n",
      "Peak_hour                            1150124 non-null float64\n",
      "Event_Other                          1150124 non-null uint8\n",
      "Event_accident                       1150124 non-null uint8\n",
      "Event_heavy traffic                  1150124 non-null uint8\n",
      "Event_road construction              1150124 non-null uint8\n",
      "Event_small traffic jam              1150124 non-null uint8\n",
      "Event_stopped traffic                1150124 non-null uint8\n",
      "Event_traffic heavier than normal    1150124 non-null uint8\n",
      "Event_traffic jam                    1150124 non-null uint8\n",
      "Event_weather                        1150124 non-null uint8\n",
      "dtypes: float64(5), int64(2), object(14), uint8(9)\n",
      "memory usage: 194.1+ MB\n"
     ]
    }
   ],
   "source": [
    "df_onehot.info()"
   ]
  },
  {
   "cell_type": "code",
   "execution_count": 309,
   "metadata": {},
   "outputs": [
    {
     "data": {
      "text/html": [
       "<div>\n",
       "<style scoped>\n",
       "    .dataframe tbody tr th:only-of-type {\n",
       "        vertical-align: middle;\n",
       "    }\n",
       "\n",
       "    .dataframe tbody tr th {\n",
       "        vertical-align: top;\n",
       "    }\n",
       "\n",
       "    .dataframe thead th {\n",
       "        text-align: right;\n",
       "    }\n",
       "</style>\n",
       "<table border=\"1\" class=\"dataframe\">\n",
       "  <thead>\n",
       "    <tr style=\"text-align: right;\">\n",
       "      <th></th>\n",
       "      <th>EVENT_ID</th>\n",
       "      <th>EVENT_TYPE</th>\n",
       "      <th>FACILITY_NAME</th>\n",
       "      <th>DIRECTION</th>\n",
       "      <th>CREATE_TIME</th>\n",
       "      <th>LAST_UPDATE</th>\n",
       "      <th>CLOSE_TIME</th>\n",
       "      <th>EVENT_DESCRIPTION</th>\n",
       "      <th>CITY</th>\n",
       "      <th>COUNTY</th>\n",
       "      <th>...</th>\n",
       "      <th>hours</th>\n",
       "      <th>Peak_hour</th>\n",
       "      <th>Event_Other</th>\n",
       "      <th>Event_accident</th>\n",
       "      <th>Event_heavy traffic</th>\n",
       "      <th>Event_road construction</th>\n",
       "      <th>Event_small traffic jam</th>\n",
       "      <th>Event_stopped traffic</th>\n",
       "      <th>Event_traffic heavier than normal</th>\n",
       "      <th>Event_traffic jam</th>\n",
       "    </tr>\n",
       "  </thead>\n",
       "  <tbody>\n",
       "    <tr>\n",
       "      <th>0</th>\n",
       "      <td>'2018113000155100005075'</td>\n",
       "      <td>stopped car on the shoulder</td>\n",
       "      <td>I-30 E</td>\n",
       "      <td>Eastbound</td>\n",
       "      <td>11/30/2018 12:15:51 AM</td>\n",
       "      <td>11/30/2018 1:44:37 AM</td>\n",
       "      <td>11/30/2018 1:44:37 AM</td>\n",
       "      <td>Waze Alert: stopped car on the shoulder on I-3...</td>\n",
       "      <td>Grand Prairie</td>\n",
       "      <td>Dallas</td>\n",
       "      <td>...</td>\n",
       "      <td>0</td>\n",
       "      <td>0.0</td>\n",
       "      <td>1</td>\n",
       "      <td>0</td>\n",
       "      <td>0</td>\n",
       "      <td>0</td>\n",
       "      <td>0</td>\n",
       "      <td>0</td>\n",
       "      <td>0</td>\n",
       "      <td>0</td>\n",
       "    </tr>\n",
       "    <tr>\n",
       "      <th>1</th>\n",
       "      <td>'2018113000194800005075'</td>\n",
       "      <td>stopped car on the shoulder</td>\n",
       "      <td>US-75 N</td>\n",
       "      <td>Northbound</td>\n",
       "      <td>11/30/2018 12:19:48 AM</td>\n",
       "      <td>11/30/2018 1:10:34 AM</td>\n",
       "      <td>11/30/2018 1:10:34 AM</td>\n",
       "      <td>Waze Alert: stopped car on the shoulder on US-...</td>\n",
       "      <td>Dallas</td>\n",
       "      <td>Dallas</td>\n",
       "      <td>...</td>\n",
       "      <td>0</td>\n",
       "      <td>0.0</td>\n",
       "      <td>1</td>\n",
       "      <td>0</td>\n",
       "      <td>0</td>\n",
       "      <td>0</td>\n",
       "      <td>0</td>\n",
       "      <td>0</td>\n",
       "      <td>0</td>\n",
       "      <td>0</td>\n",
       "    </tr>\n",
       "    <tr>\n",
       "      <th>2</th>\n",
       "      <td>'2018113000215800005075'</td>\n",
       "      <td>stopped car on the shoulder</td>\n",
       "      <td>I-30 E</td>\n",
       "      <td>Eastbound</td>\n",
       "      <td>11/30/2018 12:21:58 AM</td>\n",
       "      <td>11/30/2018 1:40:35 AM</td>\n",
       "      <td>11/30/2018 1:40:35 AM</td>\n",
       "      <td>Waze Alert: stopped car on the shoulder on I-3...</td>\n",
       "      <td>Grand Prairie</td>\n",
       "      <td>Dallas</td>\n",
       "      <td>...</td>\n",
       "      <td>0</td>\n",
       "      <td>0.0</td>\n",
       "      <td>1</td>\n",
       "      <td>0</td>\n",
       "      <td>0</td>\n",
       "      <td>0</td>\n",
       "      <td>0</td>\n",
       "      <td>0</td>\n",
       "      <td>0</td>\n",
       "      <td>0</td>\n",
       "    </tr>\n",
       "    <tr>\n",
       "      <th>3</th>\n",
       "      <td>'2018113000224700005075'</td>\n",
       "      <td>stopped car on the shoulder</td>\n",
       "      <td>I-635 W</td>\n",
       "      <td>Westbound</td>\n",
       "      <td>11/30/2018 12:22:47 AM</td>\n",
       "      <td>11/30/2018 1:02:37 AM</td>\n",
       "      <td>11/30/2018 1:02:37 AM</td>\n",
       "      <td>Waze Alert: stopped car on the shoulder on I-6...</td>\n",
       "      <td>Garland</td>\n",
       "      <td>Dallas</td>\n",
       "      <td>...</td>\n",
       "      <td>0</td>\n",
       "      <td>0.0</td>\n",
       "      <td>1</td>\n",
       "      <td>0</td>\n",
       "      <td>0</td>\n",
       "      <td>0</td>\n",
       "      <td>0</td>\n",
       "      <td>0</td>\n",
       "      <td>0</td>\n",
       "      <td>0</td>\n",
       "    </tr>\n",
       "  </tbody>\n",
       "</table>\n",
       "<p>4 rows × 29 columns</p>\n",
       "</div>"
      ],
      "text/plain": [
       "                   EVENT_ID                   EVENT_TYPE FACILITY_NAME  \\\n",
       "0  '2018113000155100005075'  stopped car on the shoulder        I-30 E   \n",
       "1  '2018113000194800005075'  stopped car on the shoulder       US-75 N   \n",
       "2  '2018113000215800005075'  stopped car on the shoulder        I-30 E   \n",
       "3  '2018113000224700005075'  stopped car on the shoulder       I-635 W   \n",
       "\n",
       "    DIRECTION             CREATE_TIME            LAST_UPDATE  \\\n",
       "0   Eastbound  11/30/2018 12:15:51 AM  11/30/2018 1:44:37 AM   \n",
       "1  Northbound  11/30/2018 12:19:48 AM  11/30/2018 1:10:34 AM   \n",
       "2   Eastbound  11/30/2018 12:21:58 AM  11/30/2018 1:40:35 AM   \n",
       "3   Westbound  11/30/2018 12:22:47 AM  11/30/2018 1:02:37 AM   \n",
       "\n",
       "              CLOSE_TIME                                  EVENT_DESCRIPTION  \\\n",
       "0  11/30/2018 1:44:37 AM  Waze Alert: stopped car on the shoulder on I-3...   \n",
       "1  11/30/2018 1:10:34 AM  Waze Alert: stopped car on the shoulder on US-...   \n",
       "2  11/30/2018 1:40:35 AM  Waze Alert: stopped car on the shoulder on I-3...   \n",
       "3  11/30/2018 1:02:37 AM  Waze Alert: stopped car on the shoulder on I-6...   \n",
       "\n",
       "            CITY  COUNTY  ... hours  Peak_hour  Event_Other  Event_accident  \\\n",
       "0  Grand Prairie  Dallas  ...     0        0.0            1               0   \n",
       "1         Dallas  Dallas  ...     0        0.0            1               0   \n",
       "2  Grand Prairie  Dallas  ...     0        0.0            1               0   \n",
       "3        Garland  Dallas  ...     0        0.0            1               0   \n",
       "\n",
       "  Event_heavy traffic Event_road construction Event_small traffic jam  \\\n",
       "0                   0                       0                       0   \n",
       "1                   0                       0                       0   \n",
       "2                   0                       0                       0   \n",
       "3                   0                       0                       0   \n",
       "\n",
       "   Event_stopped traffic  Event_traffic heavier than normal  Event_traffic jam  \n",
       "0                      0                                  0                  0  \n",
       "1                      0                                  0                  0  \n",
       "2                      0                                  0                  0  \n",
       "3                      0                                  0                  0  \n",
       "\n",
       "[4 rows x 29 columns]"
      ]
     },
     "execution_count": 309,
     "metadata": {},
     "output_type": "execute_result"
    }
   ],
   "source": [
    "df_onehot.head(4)"
   ]
  },
  {
   "cell_type": "code",
   "execution_count": 312,
   "metadata": {},
   "outputs": [],
   "source": [
    "df_onehot1=df_onehot[['Create_time','hours','Day','Event_Other','Event_accident','Event_heavy traffic','Event_road construction','Event_small traffic jam','Event_stopped traffic','Event_traffic heavier than normal','Event_traffic jam']]"
   ]
  },
  {
   "cell_type": "code",
   "execution_count": 313,
   "metadata": {},
   "outputs": [],
   "source": [
    "export_to_csv = df_onehot1.to_csv(r'C:/Users/Gayathri/Desktop/MS UNT/Capestone/SSPS_final_model.csv',index = None,header=True)"
   ]
  },
  {
   "cell_type": "code",
   "execution_count": 497,
   "metadata": {},
   "outputs": [],
   "source": [
    "feature_cols =['hours','Dayofweek','Event_traffic jam','Event_heavy traffic','Event_stopped traffic','Event_traffic heavier than normal','Event_small traffic jam']"
   ]
  },
  {
   "cell_type": "code",
   "execution_count": 498,
   "metadata": {},
   "outputs": [],
   "source": [
    "feature_target =['Event_accident']"
   ]
  },
  {
   "cell_type": "code",
   "execution_count": 499,
   "metadata": {},
   "outputs": [
    {
     "data": {
      "text/plain": [
       "['hours',\n",
       " 'Dayofweek',\n",
       " 'Event_traffic jam',\n",
       " 'Event_heavy traffic',\n",
       " 'Event_stopped traffic',\n",
       " 'Event_traffic heavier than normal',\n",
       " 'Event_small traffic jam']"
      ]
     },
     "execution_count": 499,
     "metadata": {},
     "output_type": "execute_result"
    }
   ],
   "source": [
    "feature_cols"
   ]
  },
  {
   "cell_type": "code",
   "execution_count": 647,
   "metadata": {},
   "outputs": [],
   "source": [
    "X = df_onehot[feature_cols]\n",
    "Y = df_onehot[feature_target]"
   ]
  },
  {
   "cell_type": "code",
   "execution_count": 648,
   "metadata": {},
   "outputs": [
    {
     "data": {
      "text/plain": [
       "0    1134027\n",
       "1      16097\n",
       "Name: Event_accident, dtype: int64"
      ]
     },
     "execution_count": 648,
     "metadata": {},
     "output_type": "execute_result"
    }
   ],
   "source": [
    "Y.Event_accident.value_counts()"
   ]
  },
  {
   "cell_type": "code",
   "execution_count": 649,
   "metadata": {},
   "outputs": [
    {
     "data": {
      "text/plain": [
       "DecisionTreeClassifier(class_weight=None, criterion='gini', max_depth=8,\n",
       "            max_features=None, max_leaf_nodes=None,\n",
       "            min_impurity_decrease=0.0, min_impurity_split=None,\n",
       "            min_samples_leaf=4, min_samples_split=2,\n",
       "            min_weight_fraction_leaf=0.0, presort=False, random_state=100,\n",
       "            splitter='best')"
      ]
     },
     "execution_count": 649,
     "metadata": {},
     "output_type": "execute_result"
    }
   ],
   "source": [
    "X_train, X_test, y_train, y_test = train_test_split( X, Y, test_size = 0.3, random_state =100)                           \n",
    "                           \n",
    "\n",
    "model = DecisionTreeClassifier(criterion = \"gini\", random_state =100, max_depth=8,\n",
    "                               min_samples_leaf=4)\n",
    "    \n",
    "model.fit(X_train, y_train)"
   ]
  },
  {
   "cell_type": "code",
   "execution_count": 652,
   "metadata": {},
   "outputs": [
    {
     "name": "stdout",
     "output_type": "stream",
     "text": [
      "[[340179      0]\n",
      " [  4859      0]]\n"
     ]
    }
   ],
   "source": [
    "print(confusion_matrix(y_test, predicted))"
   ]
  },
  {
   "cell_type": "code",
   "execution_count": 651,
   "metadata": {},
   "outputs": [
    {
     "name": "stdout",
     "output_type": "stream",
     "text": [
      "             precision    recall  f1-score   support\n",
      "\n",
      "          0       0.99      1.00      0.99    340179\n",
      "          1       0.00      0.00      0.00      4859\n",
      "\n",
      "avg / total       0.97      0.99      0.98    345038\n",
      "\n"
     ]
    },
    {
     "name": "stderr",
     "output_type": "stream",
     "text": [
      "C:\\Users\\Gayathri\\Anaconda3\\lib\\site-packages\\sklearn\\metrics\\classification.py:1135: UndefinedMetricWarning: Precision and F-score are ill-defined and being set to 0.0 in labels with no predicted samples.\n",
      "  'precision', 'predicted', average, warn_for)\n"
     ]
    }
   ],
   "source": [
    "predicted = model.predict(X_test)\n",
    "\n",
    "report= classification_report(y_test, predicted)\n",
    "\n",
    "print(report)"
   ]
  },
  {
   "cell_type": "code",
   "execution_count": 485,
   "metadata": {},
   "outputs": [],
   "source": [
    "from sklearn import metrics"
   ]
  },
  {
   "cell_type": "code",
   "execution_count": 564,
   "metadata": {},
   "outputs": [
    {
     "name": "stdout",
     "output_type": "stream",
     "text": [
      "Accuracy: 98.592%\n"
     ]
    }
   ],
   "source": [
    "\n",
    "accuracy_level = metrics.accuracy_score(y_test,predicted)\n",
    "print((\"Accuracy: %.3f%%\") % (accuracy_level*100.0))"
   ]
  },
  {
   "cell_type": "code",
   "execution_count": null,
   "metadata": {},
   "outputs": [],
   "source": []
  },
  {
   "cell_type": "code",
   "execution_count": 504,
   "metadata": {},
   "outputs": [
    {
     "name": "stdout",
     "output_type": "stream",
     "text": [
      "Accuracy: 98.592%\n"
     ]
    }
   ],
   "source": [
    "#Score the accuracy Level\n",
    "result =model.score(X_test,y_test)\n",
    "print((\"Accuracy: %.3f%%\") % (result*100.0))"
   ]
  },
  {
   "cell_type": "code",
   "execution_count": 488,
   "metadata": {},
   "outputs": [],
   "source": [
    "from sklearn.metrics import confusion_matrix "
   ]
  },
  {
   "cell_type": "code",
   "execution_count": 575,
   "metadata": {},
   "outputs": [
    {
     "name": "stdout",
     "output_type": "stream",
     "text": [
      "Confusion Matrix: /n [[340179      0]\n",
      " [  4859      0]]\n"
     ]
    }
   ],
   "source": [
    "print(\"Confusion Matrix: /n\",confusion_matrix(y_test,predicted) )"
   ]
  },
  {
   "cell_type": "code",
   "execution_count": 506,
   "metadata": {},
   "outputs": [],
   "source": [
    "from IPython.display import Image \n",
    "from io import StringIO\n",
    "import pydotplus as pdot\n",
    "from sklearn import preprocessing\n",
    "from sklearn import tree"
   ]
  },
  {
   "cell_type": "code",
   "execution_count": 566,
   "metadata": {},
   "outputs": [],
   "source": [
    "tree.export_graphviz(model,\n",
    "                    out_file = \"model_last.odt\",\n",
    "                    feature_names = feature_cols,class_names=True)"
   ]
  },
  {
   "cell_type": "code",
   "execution_count": 567,
   "metadata": {},
   "outputs": [],
   "source": [
    "model_tree_graph = pdot.graphviz.graph_from_dot_file(\"model_last.odt\")"
   ]
  },
  {
   "cell_type": "code",
   "execution_count": 568,
   "metadata": {},
   "outputs": [],
   "source": [
    "import os\n",
    "\n",
    "os.environ['PATH'] = os.environ['PATH']+';'+os.environ['CONDA_PREFIX']+r\"\\Library\\bin\\graphviz\""
   ]
  },
  {
   "cell_type": "code",
   "execution_count": 569,
   "metadata": {},
   "outputs": [
    {
     "data": {
      "text/plain": [
       "True"
      ]
     },
     "execution_count": 569,
     "metadata": {},
     "output_type": "execute_result"
    }
   ],
   "source": [
    "model_tree_graph.write_pdf(\"tree_last.pdf\")"
   ]
  },
  {
   "cell_type": "code",
   "execution_count": 271,
   "metadata": {},
   "outputs": [],
   "source": [
    "export_csv = df_onehot.to_csv(r'C:/Users/Gayathri/Desktop/MS UNT/Capestone/SSPS_model1.csv',index = None,header=True)"
   ]
  },
  {
   "cell_type": "markdown",
   "metadata": {},
   "source": [
    "### Random Forest"
   ]
  },
  {
   "cell_type": "code",
   "execution_count": 480,
   "metadata": {},
   "outputs": [],
   "source": [
    "from sklearn.ensemble import RandomForestClassifier"
   ]
  },
  {
   "cell_type": "code",
   "execution_count": 665,
   "metadata": {},
   "outputs": [],
   "source": [
    "feature_cols =['hours','Dayofweek','Event_traffic jam','Event_heavy traffic','Event_stopped traffic','Event_traffic heavier than normal','Event_small traffic jam','Event_road construction','Event_weather']"
   ]
  },
  {
   "cell_type": "code",
   "execution_count": 666,
   "metadata": {},
   "outputs": [
    {
     "data": {
      "text/plain": [
       "['hours',\n",
       " 'Dayofweek',\n",
       " 'Event_traffic jam',\n",
       " 'Event_heavy traffic',\n",
       " 'Event_stopped traffic',\n",
       " 'Event_traffic heavier than normal',\n",
       " 'Event_small traffic jam',\n",
       " 'Event_road construction',\n",
       " 'Event_weather']"
      ]
     },
     "execution_count": 666,
     "metadata": {},
     "output_type": "execute_result"
    }
   ],
   "source": [
    "feature_cols"
   ]
  },
  {
   "cell_type": "code",
   "execution_count": 667,
   "metadata": {},
   "outputs": [],
   "source": [
    "feature_target =['Event_accident']"
   ]
  },
  {
   "cell_type": "code",
   "execution_count": 668,
   "metadata": {},
   "outputs": [],
   "source": [
    "X = df_onehot[feature_cols]\n",
    "Y = df_onehot[feature_target]"
   ]
  },
  {
   "cell_type": "code",
   "execution_count": 669,
   "metadata": {},
   "outputs": [
    {
     "name": "stderr",
     "output_type": "stream",
     "text": [
      "C:\\Users\\Gayathri\\Anaconda3\\lib\\site-packages\\ipykernel_launcher.py:6: DataConversionWarning: A column-vector y was passed when a 1d array was expected. Please change the shape of y to (n_samples,), for example using ravel().\n",
      "  \n"
     ]
    },
    {
     "data": {
      "text/plain": [
       "RandomForestClassifier(bootstrap=True, class_weight=None, criterion='gini',\n",
       "            max_depth=None, max_features='auto', max_leaf_nodes=None,\n",
       "            min_impurity_decrease=0.0, min_impurity_split=None,\n",
       "            min_samples_leaf=1, min_samples_split=2,\n",
       "            min_weight_fraction_leaf=0.0, n_estimators=500, n_jobs=1,\n",
       "            oob_score=False, random_state=None, verbose=0,\n",
       "            warm_start=False)"
      ]
     },
     "execution_count": 669,
     "metadata": {},
     "output_type": "execute_result"
    }
   ],
   "source": [
    "x_train, x_test, Y_train, Y_test = train_test_split(X, Y, test_size=0.3)\n",
    "\n",
    "model1 =RandomForestClassifier(n_estimators=500,criterion='gini')\n",
    "\n",
    "#Train the model using the training sets y_pred=clf.predict(X_test)\n",
    "model1.fit(x_train,Y_train)"
   ]
  },
  {
   "cell_type": "code",
   "execution_count": 670,
   "metadata": {},
   "outputs": [
    {
     "name": "stdout",
     "output_type": "stream",
     "text": [
      "[[340206      0]\n",
      " [  4832      0]]\n"
     ]
    }
   ],
   "source": [
    "print(confusion_matrix(Y_test, predicted1))"
   ]
  },
  {
   "cell_type": "code",
   "execution_count": 671,
   "metadata": {},
   "outputs": [
    {
     "name": "stdout",
     "output_type": "stream",
     "text": [
      "             precision    recall  f1-score   support\n",
      "\n",
      "          0       0.99      1.00      0.99    340206\n",
      "          1       0.00      0.00      0.00      4832\n",
      "\n",
      "avg / total       0.97      0.99      0.98    345038\n",
      "\n"
     ]
    },
    {
     "name": "stderr",
     "output_type": "stream",
     "text": [
      "C:\\Users\\Gayathri\\Anaconda3\\lib\\site-packages\\sklearn\\metrics\\classification.py:1135: UndefinedMetricWarning: Precision and F-score are ill-defined and being set to 0.0 in labels with no predicted samples.\n",
      "  'precision', 'predicted', average, warn_for)\n"
     ]
    }
   ],
   "source": [
    "predicted1 = model1.predict(x_test)\n",
    "\n",
    "report1= classification_report(Y_test, predicted1)\n",
    "\n",
    "print(report1)"
   ]
  },
  {
   "cell_type": "code",
   "execution_count": 672,
   "metadata": {},
   "outputs": [
    {
     "name": "stdout",
     "output_type": "stream",
     "text": [
      "Accuracy: 98.600%\n"
     ]
    }
   ],
   "source": [
    "#Score the accuracy Level\n",
    "accuracy_level1 = metrics.accuracy_score(Y_test,predicted1)\n",
    "print((\"Accuracy: %.3f%%\") % (accuracy_level1*100.0))"
   ]
  },
  {
   "cell_type": "code",
   "execution_count": 673,
   "metadata": {},
   "outputs": [
    {
     "data": {
      "text/plain": [
       "Event_traffic jam                    0.420191\n",
       "Event_heavy traffic                  0.175324\n",
       "Event_stopped traffic                0.126724\n",
       "hours                                0.095460\n",
       "Event_traffic heavier than normal    0.086977\n",
       "Event_road construction              0.038751\n",
       "Dayofweek                            0.033261\n",
       "Event_small traffic jam              0.018250\n",
       "Event_weather                        0.005063\n",
       "dtype: float64"
      ]
     },
     "execution_count": 673,
     "metadata": {},
     "output_type": "execute_result"
    }
   ],
   "source": [
    "feature_imp = pd.Series(model1.feature_importances_,index=feature_cols).sort_values(ascending=False)\n",
    "feature_imp"
   ]
  },
  {
   "cell_type": "code",
   "execution_count": 674,
   "metadata": {},
   "outputs": [
    {
     "data": {
      "image/png": "[encoded data removed]",
      "text/plain": [
       "<Figure size 432x288 with 1 Axes>"
      ]
     },
     "metadata": {
      "needs_background": "light"
     },
     "output_type": "display_data"
    }
   ],
   "source": [
    "import matplotlib.pyplot as plt\n",
    "import seaborn as sns\n",
    "%matplotlib inline\n",
    "# Creating a bar plot\n",
    "sns.barplot(x=feature_imp, y=feature_imp.index)\n",
    "# Add labels to your graph\n",
    "plt.xlabel('Feature Importance Score')\n",
    "plt.ylabel('Features')\n",
    "plt.title(\"Visualizing Important Features\")\n",
    "\n",
    "plt.show()"
   ]
  },
  {
   "cell_type": "code",
   "execution_count": 386,
   "metadata": {},
   "outputs": [],
   "source": [
    "df_onehot['Month'] = pd.to_datetime(df_onehot['Create_day']).dt.month"
   ]
  },
  {
   "cell_type": "code",
   "execution_count": 387,
   "metadata": {},
   "outputs": [
    {
     "data": {
      "text/html": [
       "<div>\n",
       "<style scoped>\n",
       "    .dataframe tbody tr th:only-of-type {\n",
       "        vertical-align: middle;\n",
       "    }\n",
       "\n",
       "    .dataframe tbody tr th {\n",
       "        vertical-align: top;\n",
       "    }\n",
       "\n",
       "    .dataframe thead th {\n",
       "        text-align: right;\n",
       "    }\n",
       "</style>\n",
       "<table border=\"1\" class=\"dataframe\">\n",
       "  <thead>\n",
       "    <tr style=\"text-align: right;\">\n",
       "      <th></th>\n",
       "      <th>EVENT_ID</th>\n",
       "      <th>EVENT_TYPE</th>\n",
       "      <th>FACILITY_NAME</th>\n",
       "      <th>DIRECTION</th>\n",
       "      <th>CREATE_TIME</th>\n",
       "      <th>LAST_UPDATE</th>\n",
       "      <th>CLOSE_TIME</th>\n",
       "      <th>EVENT_DESCRIPTION</th>\n",
       "      <th>CITY</th>\n",
       "      <th>COUNTY</th>\n",
       "      <th>...</th>\n",
       "      <th>Peak_hour</th>\n",
       "      <th>Event_Other</th>\n",
       "      <th>Event_accident</th>\n",
       "      <th>Event_heavy traffic</th>\n",
       "      <th>Event_road construction</th>\n",
       "      <th>Event_small traffic jam</th>\n",
       "      <th>Event_stopped traffic</th>\n",
       "      <th>Event_traffic heavier than normal</th>\n",
       "      <th>Event_traffic jam</th>\n",
       "      <th>Month</th>\n",
       "    </tr>\n",
       "  </thead>\n",
       "  <tbody>\n",
       "    <tr>\n",
       "      <th>0</th>\n",
       "      <td>'2018113000155100005075'</td>\n",
       "      <td>stopped car on the shoulder</td>\n",
       "      <td>I-30 E</td>\n",
       "      <td>Eastbound</td>\n",
       "      <td>11/30/2018 12:15:51 AM</td>\n",
       "      <td>11/30/2018 1:44:37 AM</td>\n",
       "      <td>11/30/2018 1:44:37 AM</td>\n",
       "      <td>Waze Alert: stopped car on the shoulder on I-3...</td>\n",
       "      <td>Grand Prairie</td>\n",
       "      <td>Dallas</td>\n",
       "      <td>...</td>\n",
       "      <td>0.0</td>\n",
       "      <td>1</td>\n",
       "      <td>0</td>\n",
       "      <td>0</td>\n",
       "      <td>0</td>\n",
       "      <td>0</td>\n",
       "      <td>0</td>\n",
       "      <td>0</td>\n",
       "      <td>0</td>\n",
       "      <td>11</td>\n",
       "    </tr>\n",
       "    <tr>\n",
       "      <th>1</th>\n",
       "      <td>'2018113000194800005075'</td>\n",
       "      <td>stopped car on the shoulder</td>\n",
       "      <td>US-75 N</td>\n",
       "      <td>Northbound</td>\n",
       "      <td>11/30/2018 12:19:48 AM</td>\n",
       "      <td>11/30/2018 1:10:34 AM</td>\n",
       "      <td>11/30/2018 1:10:34 AM</td>\n",
       "      <td>Waze Alert: stopped car on the shoulder on US-...</td>\n",
       "      <td>Dallas</td>\n",
       "      <td>Dallas</td>\n",
       "      <td>...</td>\n",
       "      <td>0.0</td>\n",
       "      <td>1</td>\n",
       "      <td>0</td>\n",
       "      <td>0</td>\n",
       "      <td>0</td>\n",
       "      <td>0</td>\n",
       "      <td>0</td>\n",
       "      <td>0</td>\n",
       "      <td>0</td>\n",
       "      <td>11</td>\n",
       "    </tr>\n",
       "    <tr>\n",
       "      <th>2</th>\n",
       "      <td>'2018113000215800005075'</td>\n",
       "      <td>stopped car on the shoulder</td>\n",
       "      <td>I-30 E</td>\n",
       "      <td>Eastbound</td>\n",
       "      <td>11/30/2018 12:21:58 AM</td>\n",
       "      <td>11/30/2018 1:40:35 AM</td>\n",
       "      <td>11/30/2018 1:40:35 AM</td>\n",
       "      <td>Waze Alert: stopped car on the shoulder on I-3...</td>\n",
       "      <td>Grand Prairie</td>\n",
       "      <td>Dallas</td>\n",
       "      <td>...</td>\n",
       "      <td>0.0</td>\n",
       "      <td>1</td>\n",
       "      <td>0</td>\n",
       "      <td>0</td>\n",
       "      <td>0</td>\n",
       "      <td>0</td>\n",
       "      <td>0</td>\n",
       "      <td>0</td>\n",
       "      <td>0</td>\n",
       "      <td>11</td>\n",
       "    </tr>\n",
       "    <tr>\n",
       "      <th>3</th>\n",
       "      <td>'2018113000224700005075'</td>\n",
       "      <td>stopped car on the shoulder</td>\n",
       "      <td>I-635 W</td>\n",
       "      <td>Westbound</td>\n",
       "      <td>11/30/2018 12:22:47 AM</td>\n",
       "      <td>11/30/2018 1:02:37 AM</td>\n",
       "      <td>11/30/2018 1:02:37 AM</td>\n",
       "      <td>Waze Alert: stopped car on the shoulder on I-6...</td>\n",
       "      <td>Garland</td>\n",
       "      <td>Dallas</td>\n",
       "      <td>...</td>\n",
       "      <td>0.0</td>\n",
       "      <td>1</td>\n",
       "      <td>0</td>\n",
       "      <td>0</td>\n",
       "      <td>0</td>\n",
       "      <td>0</td>\n",
       "      <td>0</td>\n",
       "      <td>0</td>\n",
       "      <td>0</td>\n",
       "      <td>11</td>\n",
       "    </tr>\n",
       "  </tbody>\n",
       "</table>\n",
       "<p>4 rows × 30 columns</p>\n",
       "</div>"
      ],
      "text/plain": [
       "                   EVENT_ID                   EVENT_TYPE FACILITY_NAME  \\\n",
       "0  '2018113000155100005075'  stopped car on the shoulder        I-30 E   \n",
       "1  '2018113000194800005075'  stopped car on the shoulder       US-75 N   \n",
       "2  '2018113000215800005075'  stopped car on the shoulder        I-30 E   \n",
       "3  '2018113000224700005075'  stopped car on the shoulder       I-635 W   \n",
       "\n",
       "    DIRECTION             CREATE_TIME            LAST_UPDATE  \\\n",
       "0   Eastbound  11/30/2018 12:15:51 AM  11/30/2018 1:44:37 AM   \n",
       "1  Northbound  11/30/2018 12:19:48 AM  11/30/2018 1:10:34 AM   \n",
       "2   Eastbound  11/30/2018 12:21:58 AM  11/30/2018 1:40:35 AM   \n",
       "3   Westbound  11/30/2018 12:22:47 AM  11/30/2018 1:02:37 AM   \n",
       "\n",
       "              CLOSE_TIME                                  EVENT_DESCRIPTION  \\\n",
       "0  11/30/2018 1:44:37 AM  Waze Alert: stopped car on the shoulder on I-3...   \n",
       "1  11/30/2018 1:10:34 AM  Waze Alert: stopped car on the shoulder on US-...   \n",
       "2  11/30/2018 1:40:35 AM  Waze Alert: stopped car on the shoulder on I-3...   \n",
       "3  11/30/2018 1:02:37 AM  Waze Alert: stopped car on the shoulder on I-6...   \n",
       "\n",
       "            CITY  COUNTY  ... Peak_hour  Event_Other  Event_accident  \\\n",
       "0  Grand Prairie  Dallas  ...       0.0            1               0   \n",
       "1         Dallas  Dallas  ...       0.0            1               0   \n",
       "2  Grand Prairie  Dallas  ...       0.0            1               0   \n",
       "3        Garland  Dallas  ...       0.0            1               0   \n",
       "\n",
       "   Event_heavy traffic Event_road construction Event_small traffic jam  \\\n",
       "0                    0                       0                       0   \n",
       "1                    0                       0                       0   \n",
       "2                    0                       0                       0   \n",
       "3                    0                       0                       0   \n",
       "\n",
       "  Event_stopped traffic  Event_traffic heavier than normal  Event_traffic jam  \\\n",
       "0                     0                                  0                  0   \n",
       "1                     0                                  0                  0   \n",
       "2                     0                                  0                  0   \n",
       "3                     0                                  0                  0   \n",
       "\n",
       "   Month  \n",
       "0     11  \n",
       "1     11  \n",
       "2     11  \n",
       "3     11  \n",
       "\n",
       "[4 rows x 30 columns]"
      ]
     },
     "execution_count": 387,
     "metadata": {},
     "output_type": "execute_result"
    }
   ],
   "source": []
  },
  {
   "cell_type": "markdown",
   "metadata": {},
   "source": [
    "### Nov Month "
   ]
  },
  {
   "cell_type": "code",
   "execution_count": 583,
   "metadata": {},
   "outputs": [],
   "source": [
    "df_nov= df_onehot[df_onehot['Month']==11]"
   ]
  },
  {
   "cell_type": "code",
   "execution_count": 584,
   "metadata": {},
   "outputs": [
    {
     "data": {
      "text/plain": [
       "0    401172\n",
       "1      5363\n",
       "Name: Event_accident, dtype: int64"
      ]
     },
     "execution_count": 584,
     "metadata": {},
     "output_type": "execute_result"
    }
   ],
   "source": [
    "df_nov['Event_accident'].value_counts()"
   ]
  },
  {
   "cell_type": "code",
   "execution_count": null,
   "metadata": {},
   "outputs": [],
   "source": []
  },
  {
   "cell_type": "code",
   "execution_count": 585,
   "metadata": {},
   "outputs": [
    {
     "data": {
      "text/plain": [
       "['hours',\n",
       " 'Dayofweek',\n",
       " 'Event_traffic jam',\n",
       " 'Event_heavy traffic',\n",
       " 'Event_stopped traffic',\n",
       " 'Event_traffic heavier than normal',\n",
       " 'Event_small traffic jam']"
      ]
     },
     "execution_count": 585,
     "metadata": {},
     "output_type": "execute_result"
    }
   ],
   "source": [
    "features =['hours','Dayofweek','Event_traffic jam','Event_heavy traffic','Event_stopped traffic','Event_traffic heavier than normal','Event_small traffic jam']\n",
    "features"
   ]
  },
  {
   "cell_type": "code",
   "execution_count": 586,
   "metadata": {},
   "outputs": [],
   "source": [
    "target =['Event_accident']"
   ]
  },
  {
   "cell_type": "code",
   "execution_count": 587,
   "metadata": {},
   "outputs": [],
   "source": [
    "X1 = df_nov[features]\n",
    "Y1 = df_nov[target]"
   ]
  },
  {
   "cell_type": "code",
   "execution_count": 588,
   "metadata": {},
   "outputs": [
    {
     "name": "stderr",
     "output_type": "stream",
     "text": [
      "C:\\Users\\Gayathri\\Anaconda3\\lib\\site-packages\\ipykernel_launcher.py:6: DataConversionWarning: A column-vector y was passed when a 1d array was expected. Please change the shape of y to (n_samples,), for example using ravel().\n",
      "  \n"
     ]
    },
    {
     "data": {
      "text/plain": [
       "RandomForestClassifier(bootstrap=True, class_weight=None, criterion='gini',\n",
       "            max_depth=None, max_features='auto', max_leaf_nodes=None,\n",
       "            min_impurity_decrease=0.0, min_impurity_split=None,\n",
       "            min_samples_leaf=1, min_samples_split=2,\n",
       "            min_weight_fraction_leaf=0.0, n_estimators=100, n_jobs=1,\n",
       "            oob_score=False, random_state=None, verbose=0,\n",
       "            warm_start=False)"
      ]
     },
     "execution_count": 588,
     "metadata": {},
     "output_type": "execute_result"
    }
   ],
   "source": [
    "X1_train, X1_test, y1_train, y1_test = train_test_split(X1, Y1, test_size = 0.33, random_state = 100)                           \n",
    "                           \n",
    "\n",
    "model_nov = RandomForestClassifier(n_estimators=100,criterion='gini')\n",
    "    \n",
    "model_nov.fit(X1_train, y1_train)"
   ]
  },
  {
   "cell_type": "code",
   "execution_count": 592,
   "metadata": {},
   "outputs": [
    {
     "name": "stdout",
     "output_type": "stream",
     "text": [
      "             precision    recall  f1-score   support\n",
      "\n",
      "          0       0.99      1.00      0.99    132416\n",
      "          1       0.00      0.00      0.00      1741\n",
      "\n",
      "avg / total       0.97      0.99      0.98    134157\n",
      "\n"
     ]
    },
    {
     "name": "stderr",
     "output_type": "stream",
     "text": [
      "C:\\Users\\Gayathri\\Anaconda3\\lib\\site-packages\\sklearn\\metrics\\classification.py:1135: UndefinedMetricWarning: Precision and F-score are ill-defined and being set to 0.0 in labels with no predicted samples.\n",
      "  'precision', 'predicted', average, warn_for)\n"
     ]
    }
   ],
   "source": [
    "predicted_nov = model_nov.predict(X1_test)\n",
    "\n",
    "report2= classification_report(y1_test, predicted_nov)\n",
    "\n",
    "print(report2)"
   ]
  },
  {
   "cell_type": "code",
   "execution_count": null,
   "metadata": {},
   "outputs": [],
   "source": []
  },
  {
   "cell_type": "code",
   "execution_count": null,
   "metadata": {},
   "outputs": [],
   "source": []
  },
  {
   "cell_type": "code",
   "execution_count": 440,
   "metadata": {},
   "outputs": [],
   "source": [
    "tree.export_graphviz(model_dec,\n",
    "                    out_file = \"model_dec.odt\",\n",
    "                    feature_names = features)"
   ]
  },
  {
   "cell_type": "code",
   "execution_count": 441,
   "metadata": {},
   "outputs": [],
   "source": [
    "model_tree_graph = pdot.graphviz.graph_from_dot_file(\"model_dec.odt\")"
   ]
  },
  {
   "cell_type": "code",
   "execution_count": 442,
   "metadata": {},
   "outputs": [],
   "source": [
    "import os\n",
    "\n",
    "os.environ['PATH'] = os.environ['PATH']+';'+os.environ['CONDA_PREFIX']+r\"\\Library\\bin\\graphviz\""
   ]
  },
  {
   "cell_type": "code",
   "execution_count": 443,
   "metadata": {},
   "outputs": [
    {
     "data": {
      "text/plain": [
       "True"
      ]
     },
     "execution_count": 443,
     "metadata": {},
     "output_type": "execute_result"
    }
   ],
   "source": [
    "model_tree_graph.write_pdf(\"tree_dec.pdf\")"
   ]
  },
  {
   "cell_type": "code",
   "execution_count": null,
   "metadata": {},
   "outputs": [],
   "source": []
  }
 ],
 "metadata": {
  "kernelspec": {
   "display_name": "Python 3",
   "language": "python",
   "name": "python3"
  },
  "language_info": {
   "codemirror_mode": {
    "name": "ipython",
    "version": 3
   },
   "file_extension": ".py",
   "mimetype": "text/x-python",
   "name": "python",
   "nbconvert_exporter": "python",
   "pygments_lexer": "ipython3",
   "version": "3.7.0"
  }
 },
 "nbformat": 4,
 "nbformat_minor": 2
}
